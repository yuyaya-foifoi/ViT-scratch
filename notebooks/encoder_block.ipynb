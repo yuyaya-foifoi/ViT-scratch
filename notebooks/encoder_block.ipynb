{
 "cells": [
  {
   "cell_type": "code",
   "execution_count": null,
   "metadata": {},
   "outputs": [],
   "source": [
    "import sys\n",
    "sys.path.append(\"../\")\n",
    "import torch\n",
    "from src.layers import VitEncoderBlock "
   ]
  },
  {
   "cell_type": "code",
   "execution_count": null,
   "metadata": {},
   "outputs": [],
   "source": [
    "vit_env = VitEncoderBlock()\n",
    "z_0 = torch.randn(2, 5, 384)\n",
    "\n",
    "z_1 = vit_env(z_0)\n",
    "print(z_1[0][0][0])\n",
    "z_1 = vit_env(z_1)\n",
    "print(z_1[0][0][0])\n",
    "z_1 = vit_env(z_1)\n",
    "print(z_1[0][0][0])\n",
    "z_1 = vit_env(z_1)\n",
    "print(z_1[0][0][0])\n",
    "z_1 = vit_env(z_0)\n",
    "print(z_1[0][0][0])\n",
    "z_1 = vit_env(z_1)\n",
    "print(z_1[0][0][0])\n",
    "z_1 = vit_env(z_1)\n",
    "print(z_1[0][0][0])\n",
    "z_1 = vit_env(z_1)\n",
    "print(z_1[0][0][0])\n",
    "z_1 = vit_env(z_1)\n",
    "print(z_1[0][0][0])\n",
    "z_1 = vit_env(z_1)\n",
    "print(z_1[0][0][0])\n",
    "z_1 = vit_env(z_0)\n",
    "print(z_1[0][0][0])"
   ]
  }
 ],
 "metadata": {
  "kernelspec": {
   "display_name": "Python 3.9.5 ('.venv': poetry)",
   "language": "python",
   "name": "python3"
  },
  "language_info": {
   "codemirror_mode": {
    "name": "ipython",
    "version": 3
   },
   "file_extension": ".py",
   "mimetype": "text/x-python",
   "name": "python",
   "nbconvert_exporter": "python",
   "pygments_lexer": "ipython3",
   "version": "3.9.5"
  },
  "orig_nbformat": 4,
  "vscode": {
   "interpreter": {
    "hash": "41b2a032fa0e602303664ff271409378b659708705ceac4b5dd853dfda77bfe6"
   }
  }
 },
 "nbformat": 4,
 "nbformat_minor": 2
}
