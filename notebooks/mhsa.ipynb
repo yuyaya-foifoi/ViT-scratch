{
 "cells": [
  {
   "cell_type": "code",
   "execution_count": null,
   "metadata": {},
   "outputs": [],
   "source": [
    "import sys\n",
    "sys.path.append(\"../\")\n",
    "import torch\n",
    "from src.layers import MultiHeadSelfAttention "
   ]
  },
  {
   "cell_type": "code",
   "execution_count": null,
   "metadata": {},
   "outputs": [],
   "source": [
    "mhsa = MultiHeadSelfAttention(head=8)\n",
    "z_0 = torch.randn(1, 5, 384)\n",
    "out = mhsa(z_0)"
   ]
  }
 ],
 "metadata": {
  "kernelspec": {
   "display_name": "Python 3.9.5 ('.venv': poetry)",
   "language": "python",
   "name": "python3"
  },
  "language_info": {
   "codemirror_mode": {
    "name": "ipython",
    "version": 3
   },
   "file_extension": ".py",
   "mimetype": "text/x-python",
   "name": "python",
   "nbconvert_exporter": "python",
   "pygments_lexer": "ipython3",
   "version": "3.9.5"
  },
  "orig_nbformat": 4,
  "vscode": {
   "interpreter": {
    "hash": "41b2a032fa0e602303664ff271409378b659708705ceac4b5dd853dfda77bfe6"
   }
  }
 },
 "nbformat": 4,
 "nbformat_minor": 2
}
